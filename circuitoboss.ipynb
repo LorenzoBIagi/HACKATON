{
 "cells": [
  {
   "cell_type": "code",
   "execution_count": 39,
   "id": "122053a4",
   "metadata": {},
   "outputs": [
    {
     "name": "stdout",
     "output_type": "stream",
     "text": [
      "cross device is cpu\n",
      "Functions that require cross-approximation can be accelerated with the optional maxvolpy package, which can be installed by 'pip install maxvolpy'. More info is available at https://bitbucket.org/muxas/maxvolpy.\n",
      "Cross-approximation over a 10D domain containing 1024 grid points:\n",
      "iter: 0  | eps: 6.524e-01 | time:   0.0111 | largest rank:   1\n",
      "iter: 1  | eps: 2.339e-05 | time:   0.0282 | largest rank:   4\n",
      "iter: 2  | eps: 9.670e-11 | time:   0.0476 | largest rank:   7 <- converged: eps < 1e-06\n",
      "Did 1582 function evaluations, which took 4.268e-05s (3.707e+07 evals/s)\n",
      "\n",
      "10D TT tensor:\n",
      "\n",
      "  2   2   2   2   2   2   2   2   2   2\n",
      "  |   |   |   |   |   |   |   |   |   |\n",
      " (0) (1) (2) (3) (4) (5) (6) (7) (8) (9)\n",
      " / \\ / \\ / \\ / \\ / \\ / \\ / \\ / \\ / \\ / \\\n",
      "1   2   4   7   7   7   7   7   4   2   1\n",
      "\n",
      "10\n",
      "[[[0.89206034 0.1192324 ]\n",
      "  [0.1192324  0.89206034]]]\n",
      "(4, 2, 7)\n"
     ]
    }
   ],
   "source": [
    "import numpy as np\n",
    "import torch\n",
    "import tntorch as tn\n",
    "\n",
    "#PARAMETRI GAUSSIANA\n",
    "\n",
    "num_dimensions = 1\n",
    "mu = 0.10   # Mean vector\n",
    "cov_matrix = 0.20  # Covariance matrix \n",
    "\n",
    "#PARAMETRI DISCRETIZZAZIOINE\n",
    "\n",
    "d = 10                 # qubit\n",
    "m = 2**d               # dimensioni discretizzazione\n",
    "\n",
    "#GAUSSIANA DISCRETA\n",
    "\n",
    "domain_np = np.linspace(mu - 3*np.sqrt(cov_matrix), mu + 3*np.sqrt(cov_matrix), m)\n",
    "def gaussian(x):\n",
    "    return 1/(np.sqrt(2*np.pi*cov_matrix))*np.exp(-0.5*((x-mu)**2)/np.sqrt(cov_matrix))\n",
    "\n",
    "\n",
    "\n",
    "vec =  np.array([gaussian(x) for x in domain_np])    # vettore probabilità discreta\n",
    "\n",
    "shape = (2,)*d         # (2,2,2,2)\n",
    "A = vec.reshape(shape) #tensore numpy\n",
    "T=tn.Tensor(A)      #tensore torch\n",
    "\n",
    "\n",
    "#CREAZIONE TENSOR TRAIN\n",
    "\n",
    "TTrain = tn.cross(\n",
    "    function=lambda x: x,   # identità su ciascuna fibra\n",
    "    tensors=[T],            # lista di un solo tensore               # tolleranza desiderata\n",
    "    rmax=8,                 # rank massimo ammesso\n",
    ")\n",
    "\n",
    "\n",
    "\n",
    "print(TTrain)\n",
    "\n",
    "\n",
    "cores_torch = TTrain.cores\n",
    "cores = [c.cpu().numpy() for c in cores_torch]\n",
    "\n",
    "print(len(cores))\n",
    "print(cores[0])\n",
    "print(cores[2].shape)"
   ]
  },
  {
   "cell_type": "code",
   "execution_count": 40,
   "id": "db6c7040",
   "metadata": {},
   "outputs": [
    {
     "name": "stdout",
     "output_type": "stream",
     "text": [
      "[1, 2, 4, 7, 7, 7, 7, 7, 4, 2]\n",
      "Unitary 0: shape=(2, 2), acts on qubits [0]\n",
      "Unitary 1: shape=(4, 4), acts on qubits [0, 1]\n",
      "Unitary 2: shape=(8, 8), acts on qubits [0, 1, 2]\n",
      "Unitary 3: shape=(14, 14), acts on qubits [1, 2, 3]\n",
      "Unitary 4: shape=(14, 14), acts on qubits [2, 3, 4]\n",
      "Unitary 5: shape=(14, 14), acts on qubits [3, 4, 5]\n",
      "Unitary 6: shape=(14, 14), acts on qubits [4, 5, 6]\n",
      "Unitary 7: shape=(14, 14), acts on qubits [5, 6, 7]\n",
      "Unitary 8: shape=(8, 8), acts on qubits [6, 7, 8]\n",
      "Unitary 9: shape=(4, 4), acts on qubits [8, 9]\n",
      "[0]\n"
     ]
    }
   ],
   "source": [
    "W = []\n",
    "nk = []\n",
    "for k in range (len(cores)):\n",
    "     nk.append(len(cores[k-1][0,0,:]))\n",
    "print(nk)\n",
    "\n",
    "for k in range(len(cores)):\n",
    "    # reshape & SVD \n",
    "    j, i, n_k = cores[k].shape\n",
    "    cores[k] = np.reshape(cores[k], (j * i, n_k))\n",
    "    U, S, V = np.linalg.svd(cores[k])\n",
    "    R = np.diag(S) @ V\n",
    "    if k != len(cores) - 1:\n",
    "        cores[k+1] = np.einsum('j r,r i k->j i k', R, cores[k+1])\n",
    "\n",
    "    # Now, we are going to compute on which qubits U acts\n",
    "    start = k + 1\n",
    "    mn    = min(start, int(np.log2(nk[k])))\n",
    "    diff  = int(start - mn)\n",
    "    # qubit indices from diff up to start (inclusive)\n",
    "    qubits = list(range(diff-1, start))\n",
    "\n",
    "    # append both U and the qubit list\n",
    "    W.append([U, qubits])\n",
    "\n",
    "for k, (U, qubits) in enumerate(W):\n",
    "    print(f\"Unitary {k}: shape={U.shape}, acts on qubits {qubits}\")\n",
    "\n",
    "print(W[0][1])\n"
   ]
  }
 ],
 "metadata": {
  "kernelspec": {
   "display_name": ".venv",
   "language": "python",
   "name": "python3"
  },
  "language_info": {
   "codemirror_mode": {
    "name": "ipython",
    "version": 3
   },
   "file_extension": ".py",
   "mimetype": "text/x-python",
   "name": "python",
   "nbconvert_exporter": "python",
   "pygments_lexer": "ipython3",
   "version": "3.13.2"
  }
 },
 "nbformat": 4,
 "nbformat_minor": 5
}
