{
 "cells": [
  {
   "cell_type": "code",
   "execution_count": null,
   "metadata": {
    "vscode": {
     "languageId": "plaintext"
    }
   },
   "outputs": [],
   "source": [
    "def random_tt_binary_fixed(seed=None):\n",
    "    \"\"\"\n",
    "    Create a random TT with 7 binary modes and ranks [1,2,4,8,8,4,2,1].\n",
    "\n",
    "    Parameters\n",
    "    ----------\n",
    "    seed : int or None\n",
    "        Random seed for reproducibility.\n",
    "\n",
    "    Returns\n",
    "    -------\n",
    "    cores : list of ndarray\n",
    "        List of 7 cores, shapes as described.\n",
    "    \"\"\"\n",
    "    if seed is not None:\n",
    "        np.random.seed(seed)\n",
    "    dims  = [2] * 7\n",
    "    ranks = [1, 2, 4, 8, 8, 4, 2, 1]\n",
    "    cores = []\n",
    "    for k in range(7):\n",
    "        rL, n, rR = ranks[k], dims[k], ranks[k+1]\n",
    "        G = np.random.randn(rL, n, rR)\n",
    "        cores.append(G)\n",
    "    return cores\n",
    "\n",
    "def tt_to_tensor(cores):\n",
    "    \"\"\"\n",
    "    Reconstruct the full tensor from its TT cores.\n",
    "    \"\"\"\n",
    "    # start with first core, squeeze r0=1\n",
    "    A = np.squeeze(cores[0], axis=0)   # shape (2, r1)\n",
    "    for G in cores[1:]:\n",
    "        A = np.tensordot(A, G, axes=([-1],[0]))\n",
    "    # squeeze final r7=1\n",
    "    return np.squeeze(A, axis=-1)      # final shape (2,2,...,2), 7 modes\n",
    "\n",
    "if __name__ == \"__main__\":\n",
    "    cores = random_tt_binary_fixed(seed=2025)\n",
    "    print(\"Core shapes:\", [c.shape for c in cores])\n",
    "    A = tt_to_tensor(cores)\n",
    "    print(\"Reconstructed tensor shape:\", A.shape)\n",
    "    # Now A[i1,i2,...,i7] exists for each ik∈{0,1}\n",
    "\n",
    "print(A)"
   ]
  },
  {
   "cell_type": "code",
   "execution_count": null,
   "metadata": {
    "vscode": {
     "languageId": "plaintext"
    }
   },
   "outputs": [],
   "source": [
    "W = []\n",
    "nk = np.array([1,2,4,8,8,4,2])\n",
    "\n",
    "for k in range(len(cores)):\n",
    "        \n",
    "        j, i, n_k = cores[k].shape\n",
    "        #print(cores[k].shape)\n",
    "        cores[k] = np.reshape(cores[k], (j * i, n_k)) \n",
    "        #print(cores[k].shape)       \n",
    "        U, S, V = np.linalg.svd(cores[k])\n",
    "        R = np.diag(S) @ V\n",
    "        if k != len(cores)-1:\n",
    "            cores[k+1] = np.einsum('j r,r i k->j i k', R, cores[k+1])\n",
    "        W.append(U)\n",
    "\n",
    "\n",
    "for k, U in enumerate(W):\n",
    "    print(U.shape)\n",
    "    start = k + 1\n",
    "    mn    = min(start, np.log2(nk[k])) \n",
    "    diff  = int(start - mn)\n",
    "    print(f\"This unitary acts from qubit {int(diff)} to qubit {start}\")\n",
    "\n",
    "    #for i in range(0,diff+1):\n",
    "    #     U = np.kron(np.eye(2),U)\n",
    "\n",
    "    #for j in range(start+1,len(W)):\n",
    "    #     U = np.kron(U,np.eye(2))\n",
    "\n",
    "    print(U.shape)\n"
   ]
  }
 ],
 "metadata": {
  "language_info": {
   "name": "python"
  }
 },
 "nbformat": 4,
 "nbformat_minor": 2
}
