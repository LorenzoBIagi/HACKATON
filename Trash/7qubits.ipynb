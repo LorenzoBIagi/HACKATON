{
 "cells": [
  {
   "cell_type": "code",
   "execution_count": 50,
   "id": "28063867",
   "metadata": {},
   "outputs": [
    {
     "name": "stdout",
     "output_type": "stream",
     "text": [
      "Core shapes: [(1, 2, 2), (2, 2, 4), (4, 2, 8), (8, 2, 8), (8, 2, 4), (4, 2, 2), (2, 2, 1)]\n",
      "Reconstructed tensor shape: (2, 2, 2, 2, 2, 2, 2)\n",
      "<class 'list'>\n",
      "<class 'numpy.ndarray'>\n"
     ]
    }
   ],
   "source": [
    "import numpy as np\n",
    "\n",
    "def random_tt_binary_fixed(seed=None):\n",
    "    \"\"\"\n",
    "    Create a random TT with 7 binary modes and ranks [1,2,4,8,8,4,2,1].\n",
    "\n",
    "    Parameters\n",
    "    ----------\n",
    "    seed : int or None\n",
    "        Random seed for reproducibility.\n",
    "\n",
    "    Returns\n",
    "    -------\n",
    "    cores : list of ndarray\n",
    "        List of 7 cores, shapes as described.\n",
    "    \"\"\"\n",
    "    if seed is not None:\n",
    "        np.random.seed(seed)\n",
    "    dims  = [2] * 7\n",
    "    ranks = [1, 2, 4, 8, 8, 4, 2, 1]\n",
    "    cores = []\n",
    "    for k in range(7):\n",
    "        rL, n, rR = ranks[k], dims[k], ranks[k+1]\n",
    "        G = np.random.randn(rL, n, rR)\n",
    "        cores.append(G)\n",
    "    return cores\n",
    "\n",
    "def tt_to_tensor(cores):\n",
    "    \"\"\"\n",
    "    Reconstruct the full tensor from its TT cores.\n",
    "    \"\"\"\n",
    "    # start with first core, squeeze r0=1\n",
    "    A = np.squeeze(cores[0], axis=0)   # shape (2, r1)\n",
    "    for G in cores[1:]:\n",
    "        A = np.tensordot(A, G, axes=([-1],[0]))\n",
    "    # squeeze final r7=1\n",
    "    return np.squeeze(A, axis=-1)      # final shape (2,2,...,2), 7 modes\n",
    "\n",
    "if __name__ == \"__main__\":\n",
    "    cores = random_tt_binary_fixed(seed=2025)\n",
    "    print(\"Core shapes:\", [c.shape for c in cores])\n",
    "    A = tt_to_tensor(cores)\n",
    "    print(\"Reconstructed tensor shape:\", A.shape)\n",
    "    # Now A[i1,i2,...,i7] exists for each ik∈{0,1}\n",
    "\n",
    "print(type(cores))\n",
    "print(type(cores[0]))"
   ]
  },
  {
   "cell_type": "code",
   "execution_count": 51,
   "id": "1ac0a806",
   "metadata": {},
   "outputs": [
    {
     "name": "stdout",
     "output_type": "stream",
     "text": [
      "[1, 2, 4, 8, 8, 4, 2]\n",
      "(2, 2)\n",
      "(4, 4)\n",
      "(8, 8)\n",
      "(16, 16)\n",
      "(16, 16)\n",
      "(8, 8)\n",
      "(4, 4)\n",
      "Unitary 0: acts on qubits [0], matrix with dimension 2\n",
      "Unitary 1: acts on qubits [0, 1], matrix with dimension 4\n",
      "Unitary 2: acts on qubits [0, 1, 2], matrix with dimension 8\n",
      "Unitary 3: acts on qubits [0, 1, 2, 3], matrix with dimension 16\n",
      "Unitary 4: acts on qubits [1, 2, 3, 4], matrix with dimension 16\n",
      "Unitary 5: acts on qubits [3, 4, 5], matrix with dimension 8\n",
      "Unitary 6: acts on qubits [5, 6], matrix with dimension 4\n"
     ]
    }
   ],
   "source": [
    "W = []\n",
    "nk = []\n",
    "for k in range (len(cores)):\n",
    "     nk.append(len(cores[k-1][0,0,:]))\n",
    "print(nk)\n",
    "\n",
    "for k in range(len(cores)):\n",
    "    # reshape & SVD \n",
    "    j, i, n_k = cores[k].shape\n",
    "    \n",
    "    cores[k] = np.reshape(cores[k], (j * i, n_k))\n",
    "\n",
    "    #print(cores[k].shape)\n",
    "    U, S, V = np.linalg.svd(cores[k])\n",
    "    S_prime = np.zeros_like(cores[k])\n",
    "    \n",
    "    #print(S_prime.shape)\n",
    "    R = np.diag(S) @ V\n",
    "    if k != len(cores) - 1:\n",
    "        cores[k+1] = np.einsum('j r,r i k->j i k', R, cores[k+1])\n",
    "\n",
    "    # calcolo dei qubit coinvolti\n",
    "    start = k + 1\n",
    "    mn    = min(start, int(np.log2(nk[k])))\n",
    "    diff  = int(start - mn)\n",
    "    qubits = list(range(diff-1, start))\n",
    "    print(U.shape)\n",
    "    U_list = U.tolist()\n",
    "    W.append([U_list, qubits])\n",
    "\n",
    "# Stampa di controllo\n",
    "for idx, (U_list, qubits) in enumerate(W):\n",
    "    print(f\"Unitary {idx}: acts on qubits {qubits}, matrix with dimension {len(U_list)}\")\n"
   ]
  }
 ],
 "metadata": {
  "kernelspec": {
   "display_name": ".venv",
   "language": "python",
   "name": "python3"
  },
  "language_info": {
   "codemirror_mode": {
    "name": "ipython",
    "version": 3
   },
   "file_extension": ".py",
   "mimetype": "text/x-python",
   "name": "python",
   "nbconvert_exporter": "python",
   "pygments_lexer": "ipython3",
   "version": "3.13.2"
  }
 },
 "nbformat": 4,
 "nbformat_minor": 5
}
