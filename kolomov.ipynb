{
 "cells": [
  {
   "cell_type": "code",
   "execution_count": null,
   "metadata": {
    "vscode": {
     "languageId": "plaintext"
    }
   },
   "outputs": [],
   "source": [
    "import numpy as np\n",
    "import torch\n",
    "import tntorch as tn\n",
    "from qiskit import QuantumCircuit, transpile\n",
    "from qiskit_aer import AerSimulator\n",
    "from qiskit.visualization import plot_histogram\n",
    "import matplotlib.pyplot as plt\n",
    "from qiskit.circuit.library import UnitaryGate\n",
    "\n",
    "%matplotlib inline\n",
    "\n",
    "\n",
    "#PARAMETRI GAUSSIANA\n",
    "\n",
    "num_dimensions = 1\n",
    "mu = 0.10   # Mean vector\n",
    "cov_matrix = 0.20  # Covariance matrix \n",
    "\n",
    "#PARAMETRI DISCRETIZZAZIOINE\n",
    "\n",
    "def \n",
    "\n",
    "\n",
    "d = 10                 # qubit\n",
    "m = 2**d               # dimensioni discretizzazione\n",
    "\n",
    "#GAUSSIANA DISCRETA\n",
    "\n",
    "domain_np = np.linspace(mu - 3*np.sqrt(cov_matrix), mu + 3*np.sqrt(cov_matrix), m)\n",
    "def gaussian(x):\n",
    "    return (1/(np.sqrt(2*np.pi*cov_matrix)))*np.exp(-0.5*((x-mu)**2)/np.sqrt(cov_matrix))\n",
    "\n",
    "\n",
    "\n",
    "vec =  np.array([gaussian(x) for x in domain_np])    # vettore probabilità discreta\n",
    "\n",
    "shape = (2,)*d         # (2,2,2,2)\n",
    "A = vec.reshape(shape) #tensore numpy\n",
    "T=tn.Tensor(A)      #tensore torch\n",
    "\n",
    "\n",
    "#CREAZIONE TENSOR TRAIN\n",
    "\n",
    "TTrain = tn.cross(\n",
    "    function=lambda x: x,   # identità su ciascuna fibra\n",
    "    tensors=[T],            # lista di un solo tensore               # tolleranza desiderata\n",
    "    ranks_tt=8,                 # rank massimo ammesso\n",
    ")"
   ]
  },
  {
   "cell_type": "code",
   "execution_count": null,
   "metadata": {
    "vscode": {
     "languageId": "plaintext"
    }
   },
   "outputs": [],
   "source": []
  }
 ],
 "metadata": {
  "language_info": {
   "name": "python"
  }
 },
 "nbformat": 4,
 "nbformat_minor": 2
}
