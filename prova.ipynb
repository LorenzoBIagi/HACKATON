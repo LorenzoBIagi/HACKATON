{
 "cells": [
  {
   "cell_type": "code",
   "execution_count": null,
   "metadata": {
    "vscode": {
     "languageId": "plaintext"
    }
   },
   "outputs": [],
   "source": [
    "import numpy as np\n",
    "import torch\n",
    "import tntorch as tn\n",
    "from scipy.stats import multivariate_normal\n",
    "\n",
    "def make_psd(cov):\n",
    "    # 1. Simmetrizza\n",
    "    cov_sym = 0.5 * (cov + cov.T)\n",
    "    \n",
    "    # 2. Autovalori e autovettori\n",
    "    eigvals, eigvecs = np.linalg.eigh(cov_sym)\n",
    "\n",
    "    # 3. Azzeramento degli autovalori negativi\n",
    "    eigvals_clipped = np.clip(eigvals, a_min=1e-6, a_max=None)  # imposta min=1e-6 per evitare problemi numerici\n",
    "\n",
    "    # 4. Ricostruzione matrice PSD\n",
    "    cov_psd = eigvecs @ np.diag(eigvals_clipped) @ eigvecs.T\n",
    "    return cov_psd\n",
    "\n",
    "\n",
    "\n",
    "# Parametri Gaussiana 2D\n",
    "mu = np.array([0.10, 0.10])\n",
    "cov_matrix = make_psd(np.array([[0.20, 0.25], [0.25, 0.07]]))  # Matrice simmetrica PSD\n",
    "\n",
    "# Discretizzazione: 5 qubit per dimensione → 2^5 = 32 punti\n",
    "num_qubits_per_dim = 5\n",
    "grid_size = 2 ** num_qubits_per_dim\n",
    "\n",
    "# Griglia per x e y\n",
    "x_grid = np.linspace(mu[0] - 3*np.sqrt(cov_matrix[0,0]), mu[0] + 3*np.sqrt(cov_matrix[0,0]), grid_size)\n",
    "y_grid = np.linspace(mu[1] - 3*np.sqrt(cov_matrix[1,1]), mu[1] + 3*np.sqrt(cov_matrix[1,1]), grid_size)\n",
    "\n",
    "# Valori della PDF\n",
    "dist = multivariate_normal(mean=mu, cov=cov_matrix)\n",
    "pdf_values = np.zeros((grid_size, grid_size))\n",
    "for i, x in enumerate(x_grid):\n",
    "    for j, y in enumerate(y_grid):\n",
    "        pdf_values[i,j] = dist.pdf([x, y])\n",
    "\n",
    "# Converti in tensore e applica TT-cross con 10 core\n",
    "tensor = torch.tensor(pdf_values, dtype=torch.float32)\n",
    "tt = tn.Tensor(tensor, ranks_tt=8)  # Rank massimo 8\n",
    "\n",
    "# Forza la struttura a 10 core (1 core/qubit)\n",
    "tt_reshaped = tt.reshape([2] * 10)  # 10 dimensioni binarie (2 stati/qubit)\n",
    "print(tt_reshaped)"
   ]
  }
 ],
 "metadata": {
  "language_info": {
   "name": "python"
  }
 },
 "nbformat": 4,
 "nbformat_minor": 2
}
