{
 "cells": [
  {
   "cell_type": "code",
   "execution_count": null,
   "metadata": {
    "vscode": {
     "languageId": "plaintext"
    }
   },
   "outputs": [],
   "source": [
    "import numpy as np\n",
    "import torch\n",
    "import tntorch as tn\n",
    "from scipy.stats import multivariate_normal"
   ]
  },
  {
   "cell_type": "code",
   "execution_count": null,
   "metadata": {
    "vscode": {
     "languageId": "plaintext"
    }
   },
   "outputs": [],
   "source": [
    "num_dimensions = 2\n",
    "mu = np.array([0.10, 0.10])  # Mean vector\n",
    "cov_matrix = np.array([[0.20, 0.35],[ 0.16, 0.07]])  # Covariance matrix "
   ]
  },
  {
   "cell_type": "code",
   "execution_count": null,
   "metadata": {
    "vscode": {
     "languageId": "plaintext"
    }
   },
   "outputs": [],
   "source": [
    "def make_psd(cov):\n",
    "    # 1. Simmetrizza\n",
    "    cov_sym = 0.5 * (cov + cov.T)\n",
    "    \n",
    "    # 2. Autovalori e autovettori\n",
    "    eigvals, eigvecs = np.linalg.eigh(cov_sym)\n",
    "\n",
    "    # 3. Azzeramento degli autovalori negativi\n",
    "    eigvals_clipped = np.clip(eigvals, a_min=1e-6, a_max=None)  # imposta min=1e-6 per evitare problemi numerici\n",
    "\n",
    "    # 4. Ricostruzione matrice PSD\n",
    "    cov_psd = eigvecs @ np.diag(eigvals_clipped) @ eigvecs.T\n",
    "    return cov_psd"
   ]
  },
  {
   "cell_type": "code",
   "execution_count": null,
   "metadata": {
    "vscode": {
     "languageId": "plaintext"
    }
   },
   "outputs": [],
   "source": [
    "def generate_tt_pdf(mu, cov, num_qubits_per_dim=10, max_tt_rank=8):\n",
    "    n_dims = len(mu)\n",
    "    grid_size = 2 ** num_qubits_per_dim\n",
    "    #symmtrizziamo la matrice di covarianza\n",
    "    cov_psd = make_psd(cov)\n",
    "\n",
    "    # Griglia in ogni dimensione (intervallo centrato attorno a mu)\n",
    "    domain_np = [np.linspace(mu[d] - 3*np.sqrt(cov_psd[d,d]), mu[d] + 3*np.sqrt(cov_psd[d,d]), grid_size) for d in range(n_dims)]\n",
    "    domain = [torch.tensor(d, dtype=torch.float32) for d in domain_np]\n",
    "\n",
    "    \n",
    "\n",
    "    # Oggetto scipy multivariate normal\n",
    "    dist = multivariate_normal(mean=mu, cov=cov_psd)\n",
    "\n",
    "    # Funzione PDF vettorializzata\n",
    "    def pdf_function(*args):\n",
    "        stacked = torch.stack(args, dim=-1).numpy()  # shape (N, D)\n",
    "        pdf_vals = dist.pdf(stacked)\n",
    "        return torch.tensor(pdf_vals, dtype=torch.float32)\n",
    "\n",
    "    # Approssimazione con TT-cross con rango massimo specificato\n",
    "    tt_tensor = tn.cross(function=pdf_function, domain=domain, ranks_tt=max_tt_rank)\n",
    "    \n",
    "    return tt_tensor"
   ]
  },
  {
   "cell_type": "code",
   "execution_count": null,
   "metadata": {
    "vscode": {
     "languageId": "plaintext"
    }
   },
   "outputs": [],
   "source": [
    "tt = generate_tt_pdf(mu, cov_matrix)\n",
    "print(tt)"
   ]
  }
 ],
 "metadata": {
  "language_info": {
   "name": "python"
  }
 },
 "nbformat": 4,
 "nbformat_minor": 2
}
